{
  "cells": [
    {
      "metadata": {
        "_uuid": "8f2839f25d086af736a60e9eeb907d3b93b6e0e5",
        "_cell_guid": "b1076dfc-b9ad-4769-8c92-a6c4dae69d19",
        "trusted": true
      },
      "cell_type": "code",
      "source": "import numpy as np \nimport pandas as pd \nimport matplotlib.pyplot as plt\nimport seaborn as sns\n# Input data files are available in the \"../input/\" directory.\n# For example, running this (by clicking run or pressing Shift+Enter) will list the files in the input directory\n\nimport os\nprint(os.listdir(\"../input\"))\n\n# Any results you write to the current directory are saved as output.",
      "execution_count": null,
      "outputs": []
    },
    {
      "metadata": {
        "_cell_guid": "79c7e3d0-c299-4dcb-8224-4455121ee9b0",
        "_uuid": "d629ff2d2480ee46fbb7e2d37f6b5fab8052498a",
        "trusted": true
      },
      "cell_type": "code",
      "source": "#load data in dataframe\ndf = pd.read_csv(\"../input/spam.csv\", encoding='latin-1')\ndf.head(5)",
      "execution_count": null,
      "outputs": []
    },
    {
      "metadata": {
        "trusted": true,
        "_uuid": "e2cfc27bb21d80135b6433ed51b2cb5ce7577753"
      },
      "cell_type": "code",
      "source": "df.drop(columns=['Unnamed: 2','Unnamed: 3','Unnamed: 4'],axis=1, inplace=True)\ndf.head(5)",
      "execution_count": null,
      "outputs": []
    },
    {
      "metadata": {
        "trusted": true,
        "_uuid": "d4cbf5292c4a352d5003d1e5e081dcf34517e011"
      },
      "cell_type": "code",
      "source": "df.rename(columns={'v1':'label','v2':'text'},inplace=True)\ndf.head(5)",
      "execution_count": null,
      "outputs": []
    },
    {
      "metadata": {
        "trusted": true,
        "_uuid": "6c4a4fc3817a1d69ffa50e642c97047e6455b6e1"
      },
      "cell_type": "code",
      "source": "df.label.value_counts()\n#df.info()",
      "execution_count": null,
      "outputs": []
    },
    {
      "metadata": {
        "trusted": true,
        "_uuid": "476f199668e9bef64b70c69acda8fc5a1bafed3c"
      },
      "cell_type": "code",
      "source": "sns.countplot(df.label)\nplt.xlabel(\"label\")\nplt.title(\"Number of spam or ham messages\")",
      "execution_count": null,
      "outputs": []
    },
    {
      "metadata": {
        "trusted": true,
        "_uuid": "847fd5cc233b76033e7f87a2905531a83446b763"
      },
      "cell_type": "code",
      "source": "df[\"label_as_num\"] = df.label.map({\"ham\":0, \"spam\":1})",
      "execution_count": null,
      "outputs": []
    },
    {
      "metadata": {
        "trusted": true,
        "_uuid": "0af6e5bf270c55b19fe8db8c092562742aa3e281"
      },
      "cell_type": "code",
      "source": "from sklearn.model_selection import train_test_split\nfrom sklearn.feature_extraction.text import CountVectorizer\n\ny = df['label']\nx = df['text']\ncv = CountVectorizer()\nx = cv.fit_transform(x)\n\n\n\n",
      "execution_count": null,
      "outputs": []
    },
    {
      "metadata": {
        "trusted": true,
        "_uuid": "330d539a51674df49c555dd8ab712d5492c4a3e0"
      },
      "cell_type": "code",
      "source": "X_train, X_test, y_train, y_test = train_test_split(x,y, test_size=0.3, random_state=42)",
      "execution_count": null,
      "outputs": []
    },
    {
      "metadata": {
        "trusted": true,
        "_uuid": "f219a25f8e6d620f5e58453ccd24fc9f935c304a"
      },
      "cell_type": "code",
      "source": "from sklearn.naive_bayes import MultinomialNB\nfrom sklearn.metrics import classification_report\n#Naive Bayes Classifier\nclf = MultinomialNB()\nclf.fit(X_train,y_train)\nclf.score(X_test,y_test)\ny_pred = clf.predict(X_test)\nprint(classification_report(y_test, y_pred))",
      "execution_count": null,
      "outputs": []
    },
    {
      "metadata": {
        "trusted": true,
        "_uuid": "cdb7ea34e7d4574fb4efd3631295a11618385e7a"
      },
      "cell_type": "code",
      "source": "inp = \"you win a plane ticket to dubai. contact urgent\"#\"we got password reset request from your id. click here to reset, if not you please ignore.\"#\"you win a lottery. please click here to claim prize money.\"\ninp1 = [inp]\ninp1 = cv.transform(inp1).toarray()\nclf.predict(inp1)",
      "execution_count": null,
      "outputs": []
    },
    {
      "metadata": {
        "trusted": true,
        "_uuid": "095dc10fa38d71773ad75eb860ba2c248b7180dd"
      },
      "cell_type": "code",
      "source": "",
      "execution_count": null,
      "outputs": []
    }
  ],
  "metadata": {
    "kernelspec": {
      "display_name": "Python 3",
      "language": "python",
      "name": "python3"
    },
    "language_info": {
      "name": "python",
      "version": "3.6.6",
      "mimetype": "text/x-python",
      "codemirror_mode": {
        "name": "ipython",
        "version": 3
      },
      "pygments_lexer": "ipython3",
      "nbconvert_exporter": "python",
      "file_extension": ".py"
    }
  },
  "nbformat": 4,
  "nbformat_minor": 1
}